{
 "cells": [
  {
   "metadata": {},
   "cell_type": "markdown",
   "source": "### How to convert shapefile to a postgresql table with PostGIS",
   "id": "5524f0a46a7c8a8a"
  },
  {
   "metadata": {},
   "cell_type": "code",
   "outputs": [],
   "execution_count": null,
   "source": [
    "import geopandas as gpd\n",
    "from sqlalchemy import create_engine\n",
    "\n",
    "\n",
    "db_connection_string = \"postgresql://postgres:<password>@localhost:5432/biowhere-gazetteer\"\n",
    "\n",
    "gdf = gpd.read_file(\"path/to/your/shapefile.shp\")\n",
    "engine = create_engine(db_connection_string)\n",
    "\n",
    "# Import the GeoDataFrame into PostGIS\n",
    "gdf.to_postgis(\"my-locations-1\", engine, if_exists='replace')\n",
    "\n",
    "# Print a message when the loop is finished\n",
    "print(\"Shapefile import process completed.\")"
   ],
   "id": "9f5c479fda1bb79f"
  },
  {
   "metadata": {},
   "cell_type": "markdown",
   "source": "### How to convert csv to a postgresql table with PostGIS",
   "id": "5f84b55b17d62a07"
  },
  {
   "metadata": {},
   "cell_type": "code",
   "outputs": [],
   "execution_count": null,
   "source": [
    "# GEONAMES to postgis\n",
    "import geopandas as gpd\n",
    "from sqlalchemy import create_engine\n",
    "from geoalchemy2 import Geometry, WKTElement\n",
    "\n",
    "# Load the CSV file into a GeoDataFrame and generate the 'geometry' column\n",
    "gdf = gpd.read_file('path/to/your/data.csv')\n",
    "gdf['geometry'] = gpd.points_from_xy(gdf.longitude, gdf.latitude, crs=\"EPSG:4326\")\n",
    "\n",
    "# Define database connection details\n",
    "db_url = \"postgresql://postgres:<password>@localhost:5432/biowhere-gazetteer\"\n",
    "table_name = \"my-locations-2\"\n",
    "\n",
    "# Create the database engine\n",
    "engine = create_engine(db_url)\n",
    "\n",
    "# Use GeoAlchemy2 to prepare geometries for PostGIS\n",
    "gdf['geometry'] = gdf['geometry'].apply(lambda geom: WKTElement(geom.wkt, srid=4326))\n",
    "\n",
    "# Rename the 'geometry' column to match PostGIS conventions\n",
    "gdf = gdf.rename(columns={'geometry': 'geom'})\n",
    "\n",
    "# Write the GeoDataFrame to PostGIS\n",
    "gdf.to_sql(\n",
    "    table_name,\n",
    "    engine,\n",
    "    if_exists='replace',\n",
    "    index=False,\n",
    "    dtype={'geom': Geometry('POINT', srid=4326)}\n",
    ")\n",
    "\n",
    "print(f\"Data successfully written to the '{table_name}' table in PostGIS.\")"
   ],
   "id": "5f8648cc92dfeb9b"
  }
 ],
 "metadata": {
  "kernelspec": {
   "display_name": "Python 3",
   "language": "python",
   "name": "python3"
  },
  "language_info": {
   "codemirror_mode": {
    "name": "ipython",
    "version": 2
   },
   "file_extension": ".py",
   "mimetype": "text/x-python",
   "name": "python",
   "nbconvert_exporter": "python",
   "pygments_lexer": "ipython2",
   "version": "2.7.6"
  }
 },
 "nbformat": 4,
 "nbformat_minor": 5
}
